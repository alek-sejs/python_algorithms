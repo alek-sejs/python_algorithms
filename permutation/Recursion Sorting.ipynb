{
 "cells": [
  {
   "cell_type": "markdown",
   "metadata": {},
   "source": [
    "# Рекуррентные (рекурсивные) сортировки"
   ]
  },
  {
   "cell_type": "markdown",
   "metadata": {},
   "source": [
    "### 1) Быстрая сортировка Тони Хоара\n",
    "    \n",
    "    W(N*log2N), некоторые сортировки O(N**2)\n",
    "    \n",
    "    сортируещее действие выполняется на прямом ходу рекурсии\n",
    "    \n",
    "    без дополнительной памяти\n",
    "    \n",
    "    'разделяй и властвуй алгоритм'\n",
    "\n",
    "### 2) Сортировка слияния\n",
    "\n",
    "    O(N*log2N)\n",
    "    \n",
    "    на обратном ходу рекурсии\n",
    "    \n",
    "    нужна дополнительная память O(N)\n",
    "    \n",
    "    \n",
    "    "
   ]
  },
  {
   "cell_type": "markdown",
   "metadata": {},
   "source": [
    "##### Сортировка называется устойчивой, если она не меняет порядок равных элементов."
   ]
  },
  {
   "cell_type": "code",
   "execution_count": 10,
   "metadata": {},
   "outputs": [],
   "source": [
    "# 2) Merge sort\n",
    "#     2.1. слияние сортированных массивов\n",
    "\n",
    "def merge (A: list, B: list):\n",
    "    C = [0] * (len(A)+len(B))\n",
    "    # 3 indexes: i for A, k for B, n for C\n",
    "    \n",
    "    i = k = n = 0\n",
    "    while i < len(A) and k < len(B):\n",
    "        if A[i] <= B[k]: # устойчивая <= \n",
    "            C[n] = A[i]\n",
    "            i +=1\n",
    "            n +=1\n",
    "        else:\n",
    "            C[n] = B[k]\n",
    "            k +=1\n",
    "            n +=1\n",
    "    \n",
    "    while i < len(A):\n",
    "        C[n] = A[i]\n",
    "        i +=1\n",
    "        n +=1\n",
    "        \n",
    "    while k < len(B):\n",
    "        C[n] = B[k]\n",
    "        k +=1\n",
    "        n +=1           \n",
    "    \n",
    "    return C"
   ]
  },
  {
   "cell_type": "code",
   "execution_count": 12,
   "metadata": {},
   "outputs": [
    {
     "data": {
      "text/plain": [
       "[1, 2, 5, 8, 9, 10, 101, 400, 1000]"
      ]
     },
     "execution_count": 12,
     "metadata": {},
     "output_type": "execute_result"
    }
   ],
   "source": [
    "merge([1,2,10,101,400],[5,8,9,1000])\n"
   ]
  },
  {
   "cell_type": "markdown",
   "metadata": {},
   "source": [
    "#### Рекурсивная функция "
   ]
  },
  {
   "cell_type": "code",
   "execution_count": 33,
   "metadata": {},
   "outputs": [],
   "source": [
    "def merge_sort(A):\n",
    "    if len(A) <= 1:\n",
    "        return\n",
    "    \n",
    "    middle = len(A) // 2\n",
    "    \n",
    "    L = [A[i] for i in range(0, middle)] #left \n",
    "    R = [A[i] for i in range(middle,len(A))] #right\n",
    "    \n",
    "    merge_sort(L)\n",
    "    merge_sort(R)\n",
    "    \n",
    "    C = merge (L,R)\n",
    "    \n",
    "    for i in range(len(C)):\n",
    "        A[i] = C[i]\n",
    "    \n",
    "    return A\n",
    "    \n",
    "    \n",
    "    "
   ]
  },
  {
   "cell_type": "code",
   "execution_count": 34,
   "metadata": {},
   "outputs": [
    {
     "data": {
      "text/plain": [
       "[1, 2, 5, 8, 9, 10, 101, 400, 1000]"
      ]
     },
     "execution_count": 34,
     "metadata": {},
     "output_type": "execute_result"
    }
   ],
   "source": [
    "merge_sort([1,2,10,101,400,5,8,9,1000])"
   ]
  }
 ],
 "metadata": {
  "kernelspec": {
   "display_name": "Python 3",
   "language": "python",
   "name": "python3"
  },
  "language_info": {
   "codemirror_mode": {
    "name": "ipython",
    "version": 3
   },
   "file_extension": ".py",
   "mimetype": "text/x-python",
   "name": "python",
   "nbconvert_exporter": "python",
   "pygments_lexer": "ipython3",
   "version": "3.7.0"
  }
 },
 "nbformat": 4,
 "nbformat_minor": 2
}
