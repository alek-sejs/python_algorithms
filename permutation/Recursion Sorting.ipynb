{
 "cells": [
  {
   "cell_type": "markdown",
   "metadata": {},
   "source": [
    "# Рекуррентные (рекурсивные) сортировки"
   ]
  },
  {
   "cell_type": "markdown",
   "metadata": {},
   "source": [
    "### 1) Быстрая сортировка Тони Хоара\n",
    "    \n",
    "    W(N*log2N), некоторые сортировки O(N**2)\n",
    "    \n",
    "    сортируещее действие выполняется на прямом ходу рекурсии\n",
    "    \n",
    "    без дополнительной памяти\n",
    "    \n",
    "    'разделяй и властвуй алгоритм'\n",
    "\n",
    "### 2) Сортировка слиянием\n",
    "\n",
    "    O(N*log2N)\n",
    "    \n",
    "    на обратном ходу рекурсии\n",
    "    \n",
    "    нужна дополнительная память O(N)\n",
    "    \n",
    "    \n",
    "    "
   ]
  },
  {
   "cell_type": "markdown",
   "metadata": {},
   "source": [
    "# Сортировка слиянием"
   ]
  },
  {
   "cell_type": "code",
   "execution_count": 1,
   "metadata": {},
   "outputs": [],
   "source": [
    "# 2) Merge sort\n",
    "#     2.1. слияние осортированных массивов\n",
    "\n",
    "def merge (A: list, B: list):\n",
    "    C = [0] * (len(A)+len(B))\n",
    "    \n",
    "    \n",
    "    i = k = n = 0 # 3 indexes: i for A, k for B, n for C\n",
    "    \n",
    "    while i < len(A) and k < len(B):\n",
    "        if A[i] <= B[k]: # устойчивая <= ##### Сортировка называется устойчивой, \n",
    "                            # если она не меняет порядок равных элементов.\n",
    "            C[n] = A[i]\n",
    "            i +=1\n",
    "            n +=1\n",
    "        else:\n",
    "            C[n] = B[k]\n",
    "            k +=1\n",
    "            n +=1\n",
    "    \n",
    "    while i < len(A):\n",
    "        C[n] = A[i]\n",
    "        i +=1\n",
    "        n +=1\n",
    "        \n",
    "    while k < len(B):\n",
    "        C[n] = B[k]\n",
    "        k +=1\n",
    "        n +=1           \n",
    "    \n",
    "    return C"
   ]
  },
  {
   "cell_type": "code",
   "execution_count": 2,
   "metadata": {},
   "outputs": [
    {
     "data": {
      "text/plain": [
       "[1, 2, 5, 8, 9, 10, 101, 400, 1000]"
      ]
     },
     "execution_count": 2,
     "metadata": {},
     "output_type": "execute_result"
    }
   ],
   "source": [
    "merge([1,2,10,101,400],[5,8,9,1000])\n"
   ]
  },
  {
   "cell_type": "markdown",
   "metadata": {},
   "source": [
    "#### Рекурсивная функция "
   ]
  },
  {
   "cell_type": "code",
   "execution_count": 6,
   "metadata": {},
   "outputs": [],
   "source": [
    "def merge_sort(A):\n",
    "    \n",
    "    if len(A) <= 1:\n",
    "        return\n",
    "    \n",
    "    middle = len(A) // 2\n",
    "    \n",
    "    L = [A[i] for i in range(0, middle)] #left \n",
    "    R = [A[i] for i in range(middle,len(A))] #right\n",
    "    \n",
    "    merge_sort(L)\n",
    "    merge_sort(R)\n",
    "    \n",
    "    C = merge (L,R)\n",
    "    \n",
    "    for i in range(len(A)):\n",
    "        A[i] = C[i]\n",
    "    \n",
    "    return A\n",
    "    \n",
    "    \n",
    "    "
   ]
  },
  {
   "cell_type": "code",
   "execution_count": 8,
   "metadata": {},
   "outputs": [
    {
     "data": {
      "text/plain": [
       "[0.1, 1, 2, 5, 8, 9, 10, 101, 400, 1000]"
      ]
     },
     "execution_count": 8,
     "metadata": {},
     "output_type": "execute_result"
    }
   ],
   "source": [
    "merge_sort([1,2,10,101,400,5,8,9,1000,0.1])"
   ]
  },
  {
   "cell_type": "code",
   "execution_count": 9,
   "metadata": {},
   "outputs": [
    {
     "data": {
      "text/plain": [
       "['A', 'C', 'F', 'f', 'k']"
      ]
     },
     "execution_count": 9,
     "metadata": {},
     "output_type": "execute_result"
    }
   ],
   "source": [
    "merge_sort(['C','A','k','f','F'])"
   ]
  },
  {
   "cell_type": "markdown",
   "metadata": {},
   "source": [
    "# СОРТИРОВКА ТОНИ ХОАРА (Quick Sort)"
   ]
  },
  {
   "cell_type": "code",
   "execution_count": 13,
   "metadata": {},
   "outputs": [],
   "source": [
    "def hoar_sort(A):\n",
    "    if len(A)<=1:\n",
    "        return #thes same as return None\n",
    "    \n",
    "    L = []\n",
    "    M = []\n",
    "    R =[]\n",
    "  \n",
    "    barrier = A[0] \n",
    "    for x in A:\n",
    "        if x < barrier:\n",
    "            L.append(x)\n",
    "        elif x == barrier:\n",
    "            M.append(x)\n",
    "        else:\n",
    "            R.append(x)\n",
    "            \n",
    "    hoar_sort(L)\n",
    "    hoar_sort(R) \n",
    "    \n",
    "    \n",
    "    k = 0\n",
    "    \n",
    "    for x in L + M + R:\n",
    "        A[k] = x\n",
    "        k +=1\n",
    "        \n",
    "    return A  \n",
    "            \n",
    "            \n",
    "    "
   ]
  },
  {
   "cell_type": "code",
   "execution_count": 14,
   "metadata": {},
   "outputs": [
    {
     "data": {
      "text/plain": [
       "['A', 'C', 'F', 'f', 'k']"
      ]
     },
     "execution_count": 14,
     "metadata": {},
     "output_type": "execute_result"
    }
   ],
   "source": [
    "hoar_sort(['C','A','k','f','F'])"
   ]
  },
  {
   "cell_type": "markdown",
   "metadata": {},
   "source": [
    "### Проверка отсортитрованности массива"
   ]
  },
  {
   "cell_type": "code",
   "execution_count": 25,
   "metadata": {},
   "outputs": [],
   "source": [
    "def check_sorted (A, ascending = True):\n",
    "    '''Проверка отсортированности за О(len(A)) по возрастанию'''\n",
    "    \n",
    "    flag = True\n",
    "    \n",
    "    s = 2*int(ascending)-1\n",
    "    \n",
    "    for i in range (0, len(A)-1):\n",
    "        if s* A[i] > s *A[i+1]:\n",
    "            flag = False\n",
    "            break\n",
    "    return flag"
   ]
  },
  {
   "cell_type": "code",
   "execution_count": 19,
   "metadata": {},
   "outputs": [
    {
     "data": {
      "text/plain": [
       "False"
      ]
     },
     "execution_count": 19,
     "metadata": {},
     "output_type": "execute_result"
    }
   ],
   "source": [
    "check_sorted(['C','A','k','f','F'])"
   ]
  },
  {
   "cell_type": "code",
   "execution_count": 23,
   "metadata": {},
   "outputs": [
    {
     "data": {
      "text/plain": [
       "True"
      ]
     },
     "execution_count": 23,
     "metadata": {},
     "output_type": "execute_result"
    }
   ],
   "source": [
    "check_sorted([1,2,3,8])"
   ]
  },
  {
   "cell_type": "code",
   "execution_count": 24,
   "metadata": {},
   "outputs": [
    {
     "data": {
      "text/plain": [
       "False"
      ]
     },
     "execution_count": 24,
     "metadata": {},
     "output_type": "execute_result"
    }
   ],
   "source": [
    "check_sorted([3,2,1,0])"
   ]
  },
  {
   "cell_type": "markdown",
   "metadata": {},
   "source": [
    "#### Бинарный поиск в массиве"
   ]
  },
  {
   "cell_type": "code",
   "execution_count": null,
   "metadata": {},
   "outputs": [],
   "source": [
    "def binary_search (A, )\n"
   ]
  }
 ],
 "metadata": {
  "kernelspec": {
   "display_name": "Python 3",
   "language": "python",
   "name": "python3"
  },
  "language_info": {
   "codemirror_mode": {
    "name": "ipython",
    "version": 3
   },
   "file_extension": ".py",
   "mimetype": "text/x-python",
   "name": "python",
   "nbconvert_exporter": "python",
   "pygments_lexer": "ipython3",
   "version": "3.7.0"
  }
 },
 "nbformat": 4,
 "nbformat_minor": 2
}
