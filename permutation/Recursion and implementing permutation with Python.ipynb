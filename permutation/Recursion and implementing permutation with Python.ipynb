{
 "cells": [
  {
   "cell_type": "markdown",
   "metadata": {},
   "source": [
    "### Генерация всех перестановок\n",
    "\n",
    "N!"
   ]
  },
  {
   "cell_type": "code",
   "execution_count": 62,
   "metadata": {},
   "outputs": [],
   "source": [
    "def gen_bin1(M, prefix =''):\n",
    "    if M == 0:\n",
    "        print(prefix)\n",
    "    else:\n",
    "        gen_bin(M-1, prefix + '0')\n",
    "        gen_bin(M-1, prefix + '1')"
   ]
  },
  {
   "cell_type": "code",
   "execution_count": 63,
   "metadata": {},
   "outputs": [],
   "source": [
    "def gen_bin(M, prefix =''):\n",
    "    if M == 0:\n",
    "        print(prefix)\n",
    "    else:\n",
    "        for digit in ['0','1']:\n",
    "            gen_bin(M-1, prefix + digit)"
   ]
  },
  {
   "cell_type": "code",
   "execution_count": 65,
   "metadata": {},
   "outputs": [
    {
     "name": "stdout",
     "output_type": "stream",
     "text": [
      "00\n",
      "01\n",
      "10\n",
      "11\n"
     ]
    }
   ],
   "source": [
    "gen_bin(2)"
   ]
  },
  {
   "cell_type": "code",
   "execution_count": 38,
   "metadata": {},
   "outputs": [],
   "source": [
    "def generate_numbers(N:int,  M :int, prefix = None):\n",
    "    '''Генерирует все числа (с лидирующими нулями) в N- ричной системе счисления N<=10\n",
    "    N - осонование системы исчиления\n",
    "    M - количество чисел    \n",
    "    prefix - сгенерированная часть числа'''\n",
    "    \n",
    "    prefix = prefix or [] #None = False in python\n",
    "    \n",
    "    if M == 0:\n",
    "        print (prefix)\n",
    "        return\n",
    "        \n",
    "    for digit in range (N):\n",
    "        prefix.append(digit)\n",
    "        generate_numbers(N, M-1, prefix)\n",
    "        prefix.pop()  \n",
    "        \n",
    "        "
   ]
  },
  {
   "cell_type": "code",
   "execution_count": 39,
   "metadata": {},
   "outputs": [
    {
     "name": "stdout",
     "output_type": "stream",
     "text": [
      "[0, 0]\n",
      "[0, 1]\n",
      "[1, 0]\n",
      "[1, 1]\n"
     ]
    }
   ],
   "source": [
    "generate_numbers(2,2)"
   ]
  }
 ],
 "metadata": {
  "kernelspec": {
   "display_name": "Python 3",
   "language": "python",
   "name": "python3"
  },
  "language_info": {
   "codemirror_mode": {
    "name": "ipython",
    "version": 3
   },
   "file_extension": ".py",
   "mimetype": "text/x-python",
   "name": "python",
   "nbconvert_exporter": "python",
   "pygments_lexer": "ipython3",
   "version": "3.7.0"
  }
 },
 "nbformat": 4,
 "nbformat_minor": 2
}
