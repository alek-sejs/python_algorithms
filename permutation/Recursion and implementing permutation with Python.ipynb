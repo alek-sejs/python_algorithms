{
 "cells": [
  {
   "cell_type": "markdown",
   "metadata": {},
   "source": [
    "### Генерация всех перестановок\n",
    "\n",
    "N!"
   ]
  },
  {
   "cell_type": "code",
   "execution_count": 1,
   "metadata": {},
   "outputs": [],
   "source": [
    "def gen_bin1(M, prefix =''):\n",
    "    if M == 0:\n",
    "        print(prefix)\n",
    "    else:\n",
    "        gen_bin(M-1, prefix + '0')\n",
    "        gen_bin(M-1, prefix + '1')"
   ]
  },
  {
   "cell_type": "code",
   "execution_count": 3,
   "metadata": {},
   "outputs": [],
   "source": [
    "def gen_bin(M, prefix =''):\n",
    "    if M == 0:\n",
    "        print(prefix)\n",
    "    else:\n",
    "        for digit in ['0','1']:\n",
    "            gen_bin(M-1, prefix + digit)"
   ]
  },
  {
   "cell_type": "code",
   "execution_count": 5,
   "metadata": {},
   "outputs": [
    {
     "name": "stdout",
     "output_type": "stream",
     "text": [
      "000\n",
      "001\n",
      "010\n",
      "011\n",
      "100\n",
      "101\n",
      "110\n",
      "111\n"
     ]
    }
   ],
   "source": [
    "gen_bin(3)"
   ]
  },
  {
   "cell_type": "code",
   "execution_count": 15,
   "metadata": {},
   "outputs": [],
   "source": [
    "def generate_numbers(N:int,  M :int, prefix = None):\n",
    "    '''Генерирует все числа (с лидирующими нулями) в N- ричной системе счисления N<=10\n",
    "    N - осонование системы исчиления\n",
    "    M - количество чисел    \n",
    "    prefix - сгенерированная часть числа'''\n",
    "    \n",
    "    prefix = prefix or [] #None = False in python\n",
    "    \n",
    "    if M == 0:\n",
    "        print (prefix)\n",
    "        return\n",
    "        \n",
    "    for digit in range (N):\n",
    "        prefix.append(digit)\n",
    "        generate_numbers(N, M-1, prefix)\n",
    "        prefix.pop()  \n",
    "        \n",
    "        "
   ]
  },
  {
   "cell_type": "code",
   "execution_count": 18,
   "metadata": {},
   "outputs": [
    {
     "name": "stdout",
     "output_type": "stream",
     "text": [
      "[0, 0, 0]\n",
      "[0, 0, 1]\n",
      "[0, 1, 0]\n",
      "[0, 1, 1]\n",
      "[1, 0, 0]\n",
      "[1, 0, 1]\n",
      "[1, 1, 0]\n",
      "[1, 1, 1]\n"
     ]
    }
   ],
   "source": [
    "generate_numbers(2,3)"
   ]
  },
  {
   "cell_type": "code",
   "execution_count": 50,
   "metadata": {},
   "outputs": [
    {
     "name": "stdout",
     "output_type": "stream",
     "text": [
      "12; 13; 14; 15; 21; 23; 24; 25; 31; 32; 34; 35; 41; 42; 43; 45; 51; 52; 53; 54; "
     ]
    }
   ],
   "source": [
    "def find (number, A):\n",
    "    '''ищет х в А и возвращает True, если такой есть, else False'''\n",
    "    for x in A:\n",
    "        if number == x:\n",
    "            return True\n",
    "    return False\n",
    "\n",
    "\n",
    "\n",
    "\n",
    "\n",
    "def generate_permutations(N:int, M:int = -1, prefix=None):\n",
    "    '''Генерация всех перестановок N чисел в М позициях, с префиксом prefix'''\n",
    "    \n",
    "    M = N if M == - 1 else M # по умочанию N чисел в N позициях\n",
    "    prefix = prefix or []\n",
    "    \n",
    "    if M == 0:\n",
    "#         print(prefix)\n",
    "        print (*prefix, end= '; ', sep ='') #только python\n",
    "        return\n",
    "    \n",
    "    for number in range (1, N+1):\n",
    "        if number in prefix:\n",
    "            continue\n",
    "#         if find(number, prefix):\n",
    "#             continue\n",
    "        prefix.append(number)\n",
    "        generate_permutations(N, M-1, prefix)\n",
    "        prefix.pop()\n",
    "        \n",
    "    \n",
    "    \n",
    "        \n",
    "        \n",
    "generate_permutations(5,2)   "
   ]
  }
 ],
 "metadata": {
  "kernelspec": {
   "display_name": "Python 3",
   "language": "python",
   "name": "python3"
  },
  "language_info": {
   "codemirror_mode": {
    "name": "ipython",
    "version": 3
   },
   "file_extension": ".py",
   "mimetype": "text/x-python",
   "name": "python",
   "nbconvert_exporter": "python",
   "pygments_lexer": "ipython3",
   "version": "3.7.0"
  }
 },
 "nbformat": 4,
 "nbformat_minor": 2
}
