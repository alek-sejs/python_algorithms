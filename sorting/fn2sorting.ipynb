{
 "cells": [
  {
   "cell_type": "markdown",
   "metadata": {},
   "source": [
    "### Квадратичные сортировки"
   ]
  },
  {
   "cell_type": "code",
   "execution_count": 7,
   "metadata": {},
   "outputs": [],
   "source": [
    "#количество операций O(n**2)\n",
    "#1+2+...(n-1) = n(n-1)/2"
   ]
  },
  {
   "cell_type": "code",
   "execution_count": 35,
   "metadata": {},
   "outputs": [
    {
     "name": "stdout",
     "output_type": "stream",
     "text": [
      "Тестируем: сортировка списка А вставками\n",
      "testcase #1: Ok\n",
      "testcase #2: Ok\n",
      "testcase #3: Ok\n",
      "Тестируем: сортировка списка А МЕТОДОМ ВЫБОРА\n",
      "testcase #1: Ok\n",
      "testcase #2: Ok\n",
      "testcase #3: Ok\n",
      "Тестируем: сортировка списка МЕТОДОМ А ПУЗЫРЬКА\n",
      "testcase #1: Ok\n",
      "testcase #2: Ok\n",
      "testcase #3: Ok\n"
     ]
    }
   ],
   "source": [
    "def test_sort(sort_algorithm):\n",
    "    \n",
    "    print('Тестируем:', sort_algorithm.__doc__)\n",
    "    \n",
    "    print('testcase #1: ', end='')\n",
    "    A = [4,2,5,1,3]\n",
    "    A_sorted = [1,2,3,4,5]\n",
    "    sort_algorithm(A)\n",
    "    \n",
    "    if A == A_sorted:\n",
    "        print('Ok' if A == A_sorted else \"Fail\")\n",
    "    \n",
    "    print('testcase #2: ', end='')\n",
    "    A = list(range(10,20)) + list(range(0,10))\n",
    "    A_sorted = list(range(20))\n",
    "    sort_algorithm(A)\n",
    "    \n",
    "    if A == A_sorted:\n",
    "        print('Ok' if A == A_sorted else \"Fail\")\n",
    "    \n",
    "    \n",
    "    print('testcase #3: ', end='')\n",
    "    A = [4,2,4,2,1]\n",
    "    A_sorted = [1,2,2,4,4]\n",
    "    sort_algorithm(A)\n",
    "    \n",
    "    if A == A_sorted:\n",
    "        print('Ok' if A == A_sorted else \"Fail\")\n",
    "        \n",
    "if __name__ == '__main__':\n",
    "    test_sort(insert_sort)\n",
    "    test_sort(choise_sort)\n",
    "    test_sort(bubble_sort)\n",
    "        \n",
    "        \n"
   ]
  },
  {
   "cell_type": "markdown",
   "metadata": {},
   "source": [
    "#### insert sort (СОРТИРОВКА ВСТАВАКАМИ)"
   ]
  },
  {
   "cell_type": "code",
   "execution_count": 36,
   "metadata": {},
   "outputs": [],
   "source": [
    "def insert_sort(A:list):\n",
    "    '''сортировка списка А вставками'''\n",
    "    n = len(A)\n",
    "    for top in range (1, n):\n",
    "        k = top\n",
    "        while k > 0 and A[k-1] > A[k]:\n",
    "            A[k], A[k-1] = A[k-1], A[k]\n",
    "            k -= 1  \n",
    "            "
   ]
  },
  {
   "cell_type": "markdown",
   "metadata": {},
   "source": [
    "#### choice sort (СОРТИРОВКА МЕТОДОМ ВЫБОРА)"
   ]
  },
  {
   "cell_type": "code",
   "execution_count": 37,
   "metadata": {},
   "outputs": [],
   "source": [
    "def choise_sort(A):\n",
    "    '''сортировка списка А МЕТОДОМ ВЫБОРА'''\n",
    "    n = len(A)\n",
    "    for pos in range (0, n-1):\n",
    "        for k in range(pos+1, n):\n",
    "            if A[k] < A [pos]:\n",
    "                A[k], A[pos] = A[pos], A[k]\n"
   ]
  },
  {
   "cell_type": "markdown",
   "metadata": {},
   "source": [
    "#### bubble sort (СОРТИРОВКА МЕТОДОМ ПУЗЫРЬКА)"
   ]
  },
  {
   "cell_type": "code",
   "execution_count": 39,
   "metadata": {},
   "outputs": [],
   "source": [
    "def bubble_sort(A):\n",
    "    '''сортировка списка МЕТОДОМ А ПУЗЫРЬКА'''\n",
    "    n = len(A)\n",
    "    for bypass in range (1,n):#bypass - проход\n",
    "        for k in range(0, n-bypass):\n",
    "            if A[k] > A[k+1]:\n",
    "                A[k], A[k+1] = A[k+1], A[k]"
   ]
  },
  {
   "cell_type": "markdown",
   "metadata": {},
   "source": [
    "##### count sort (СОРТИРОВКА ПОДСЧЕТОМ)  \n",
    "\n",
    "Fast\n",
    "\n",
    "O(N)\n",
    "\n",
    "O(M) -memory, M - different elements\n"
   ]
  },
  {
   "cell_type": "code",
   "execution_count": null,
   "metadata": {},
   "outputs": [],
   "source": []
  },
  {
   "cell_type": "code",
   "execution_count": null,
   "metadata": {},
   "outputs": [],
   "source": []
  },
  {
   "cell_type": "code",
   "execution_count": null,
   "metadata": {},
   "outputs": [],
   "source": []
  }
 ],
 "metadata": {
  "kernelspec": {
   "display_name": "Python 3",
   "language": "python",
   "name": "python3"
  },
  "language_info": {
   "codemirror_mode": {
    "name": "ipython",
    "version": 3
   },
   "file_extension": ".py",
   "mimetype": "text/x-python",
   "name": "python",
   "nbconvert_exporter": "python",
   "pygments_lexer": "ipython3",
   "version": "3.7.0"
  }
 },
 "nbformat": 4,
 "nbformat_minor": 2
}
